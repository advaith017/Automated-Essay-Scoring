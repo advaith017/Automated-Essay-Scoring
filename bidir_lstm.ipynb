{
  "cells": [
    {
      "cell_type": "code",
      "source": [
        "!pip install transformers"
      ],
      "metadata": {
        "colab": {
          "base_uri": "https://localhost:8080/"
        },
        "id": "lI7AyRnSLyCN",
        "outputId": "45ed3fce-cd98-4914-b108-27906f5684d2"
      },
      "id": "lI7AyRnSLyCN",
      "execution_count": 13,
      "outputs": [
        {
          "output_type": "stream",
          "name": "stdout",
          "text": [
            "Looking in indexes: https://pypi.org/simple, https://us-python.pkg.dev/colab-wheels/public/simple/\n",
            "Requirement already satisfied: transformers in /usr/local/lib/python3.10/dist-packages (4.28.1)\n",
            "Requirement already satisfied: numpy>=1.17 in /usr/local/lib/python3.10/dist-packages (from transformers) (1.22.4)\n",
            "Requirement already satisfied: pyyaml>=5.1 in /usr/local/lib/python3.10/dist-packages (from transformers) (6.0)\n",
            "Requirement already satisfied: regex!=2019.12.17 in /usr/local/lib/python3.10/dist-packages (from transformers) (2022.10.31)\n",
            "Requirement already satisfied: tqdm>=4.27 in /usr/local/lib/python3.10/dist-packages (from transformers) (4.65.0)\n",
            "Requirement already satisfied: packaging>=20.0 in /usr/local/lib/python3.10/dist-packages (from transformers) (23.1)\n",
            "Requirement already satisfied: filelock in /usr/local/lib/python3.10/dist-packages (from transformers) (3.12.0)\n",
            "Requirement already satisfied: huggingface-hub<1.0,>=0.11.0 in /usr/local/lib/python3.10/dist-packages (from transformers) (0.14.1)\n",
            "Requirement already satisfied: tokenizers!=0.11.3,<0.14,>=0.11.1 in /usr/local/lib/python3.10/dist-packages (from transformers) (0.13.3)\n",
            "Requirement already satisfied: requests in /usr/local/lib/python3.10/dist-packages (from transformers) (2.27.1)\n",
            "Requirement already satisfied: fsspec in /usr/local/lib/python3.10/dist-packages (from huggingface-hub<1.0,>=0.11.0->transformers) (2023.4.0)\n",
            "Requirement already satisfied: typing-extensions>=3.7.4.3 in /usr/local/lib/python3.10/dist-packages (from huggingface-hub<1.0,>=0.11.0->transformers) (4.5.0)\n",
            "Requirement already satisfied: idna<4,>=2.5 in /usr/local/lib/python3.10/dist-packages (from requests->transformers) (3.4)\n",
            "Requirement already satisfied: urllib3<1.27,>=1.21.1 in /usr/local/lib/python3.10/dist-packages (from requests->transformers) (1.26.15)\n",
            "Requirement already satisfied: certifi>=2017.4.17 in /usr/local/lib/python3.10/dist-packages (from requests->transformers) (2022.12.7)\n",
            "Requirement already satisfied: charset-normalizer~=2.0.0 in /usr/local/lib/python3.10/dist-packages (from requests->transformers) (2.0.12)\n"
          ]
        }
      ]
    },
    {
      "cell_type": "code",
      "execution_count": 14,
      "id": "11390078",
      "metadata": {
        "_cell_guid": "b1076dfc-b9ad-4769-8c92-a6c4dae69d19",
        "_uuid": "8f2839f25d086af736a60e9eeb907d3b93b6e0e5",
        "execution": {
          "iopub.execute_input": "2022-12-03T22:01:12.665715Z",
          "iopub.status.busy": "2022-12-03T22:01:12.664920Z",
          "iopub.status.idle": "2022-12-03T22:01:19.284892Z",
          "shell.execute_reply": "2022-12-03T22:01:19.282851Z"
        },
        "papermill": {
          "duration": 6.629489,
          "end_time": "2022-12-03T22:01:19.287398",
          "exception": false,
          "start_time": "2022-12-03T22:01:12.657909",
          "status": "completed"
        },
        "tags": [],
        "id": "11390078"
      },
      "outputs": [],
      "source": [
        "import numpy as np\n",
        "import pandas as pd \n",
        "from sklearn.preprocessing import StandardScaler\n",
        "\n",
        "from transformers import BertTokenizer\n",
        "\n",
        "import tensorflow as tf\n",
        "from tensorflow.keras import Sequential\n",
        "from tensorflow.keras.layers import Dense\n",
        "from tensorflow.keras.layers import Embedding\n",
        "from tensorflow.keras.layers import GlobalAveragePooling1D\n",
        "from tensorflow.keras.layers import Dropout\n",
        "from tensorflow.keras.layers import Conv1D\n",
        "from tensorflow.keras.layers import MaxPooling1D\n",
        "from tensorflow.keras.layers import GlobalAveragePooling1D\n",
        "from tensorflow import keras\n",
        "from tensorflow.keras import layers\n",
        "\n",
        "# plots and images\n",
        "import seaborn as sns\n",
        "import matplotlib.pyplot as plt\n",
        "from IPython.display import Image\n",
        "\n",
        "#sklearn processing\n",
        "from sklearn.model_selection import KFold\n",
        "from sklearn.model_selection import train_test_split\n",
        "\n",
        "\n",
        "\n",
        "#import os\n",
        "#for dirname, _, filenames in os.walk('/kaggle/input'):\n",
        "    #for filename in filenames:\n",
        "        #print(os.path.join(dirname, filename))\n",
        "\n",
        "#configs\n",
        "max_tokens = 8000\n",
        "max_length = 600\n",
        "developing = False"
      ]
    },
    {
      "cell_type": "code",
      "execution_count": 15,
      "id": "3079a6d4",
      "metadata": {
        "execution": {
          "iopub.execute_input": "2022-12-03T22:01:19.294868Z",
          "iopub.status.busy": "2022-12-03T22:01:19.294322Z",
          "iopub.status.idle": "2022-12-03T22:01:19.497415Z",
          "shell.execute_reply": "2022-12-03T22:01:19.496377Z"
        },
        "papermill": {
          "duration": 0.209701,
          "end_time": "2022-12-03T22:01:19.500168",
          "exception": false,
          "start_time": "2022-12-03T22:01:19.290467",
          "status": "completed"
        },
        "tags": [],
        "id": "3079a6d4"
      },
      "outputs": [],
      "source": [
        "train_data_raw = pd.read_csv('train.csv')\n",
        "test_from_comp = pd.read_csv('test.csv')"
      ]
    },
    {
      "cell_type": "code",
      "execution_count": 16,
      "id": "04d3604a",
      "metadata": {
        "execution": {
          "iopub.execute_input": "2022-12-03T22:01:19.508921Z",
          "iopub.status.busy": "2022-12-03T22:01:19.507130Z",
          "iopub.status.idle": "2022-12-03T22:01:22.408343Z",
          "shell.execute_reply": "2022-12-03T22:01:22.406840Z"
        },
        "papermill": {
          "duration": 2.907443,
          "end_time": "2022-12-03T22:01:22.410736",
          "exception": false,
          "start_time": "2022-12-03T22:01:19.503293",
          "status": "completed"
        },
        "tags": [],
        "id": "04d3604a"
      },
      "outputs": [],
      "source": [
        "train, test = train_test_split(train_data_raw, test_size=0.2, random_state=21) #20% for test\n",
        "train, val = train_test_split(train, test_size=0.1, random_state=21) # 10% for validation\n",
        "train\n",
        "\n",
        "targets=['cohesion', 'syntax', 'vocabulary', 'phraseology', 'grammar', 'conventions']\n",
        "\n",
        "train_targets = train[targets]\n",
        "val_targets = val[targets]\n",
        "test_targets = test[targets]\n",
        "\n",
        "train_targets_ds = tf.convert_to_tensor(train_targets)\n",
        "val_targets_ds = tf.convert_to_tensor(val_targets)\n",
        "test_targets_ds = tf.convert_to_tensor(test_targets)\n",
        "\n",
        "train_text_only = tf.convert_to_tensor(train['full_text'])\n",
        "val_text_only = tf.convert_to_tensor(val['full_text'])\n",
        "test_text_only = tf.convert_to_tensor(test['full_text'])\n",
        "\n",
        "## for submission \n",
        "all_train_targets = train_data_raw[targets]\n",
        "all_train_targets_ds = tf.convert_to_tensor(all_train_targets)\n",
        "all_train_text_only = tf.convert_to_tensor(train_data_raw['full_text'])\n",
        "\n",
        "all_test_text_only = tf.convert_to_tensor(test_from_comp['full_text'])\n"
      ]
    },
    {
      "cell_type": "code",
      "execution_count": 17,
      "id": "217dcc93",
      "metadata": {
        "execution": {
          "iopub.execute_input": "2022-12-03T22:01:22.419110Z",
          "iopub.status.busy": "2022-12-03T22:01:22.417595Z",
          "iopub.status.idle": "2022-12-03T22:01:23.979262Z",
          "shell.execute_reply": "2022-12-03T22:01:23.978276Z"
        },
        "papermill": {
          "duration": 1.568019,
          "end_time": "2022-12-03T22:01:23.981857",
          "exception": false,
          "start_time": "2022-12-03T22:01:22.413838",
          "status": "completed"
        },
        "tags": [],
        "id": "217dcc93"
      },
      "outputs": [],
      "source": [
        "# text_vectorization = layers.TextVectorization(\n",
        "#     max_tokens=max_tokens,\n",
        "#     output_mode=\"multi_hot\"\n",
        "# )\n",
        "\n",
        "text_vectorization = layers.TextVectorization(\n",
        "    max_tokens=max_tokens,\n",
        "    output_mode=\"int\",\n",
        "    output_sequence_length=max_length,\n",
        ")\n",
        "\n",
        "#use the dataset to index the dataset vocab via the adapt method\n",
        "text_vectorization.adapt(train_text_only)\n",
        "\n",
        "train_features_ds = text_vectorization(train_text_only)\n",
        "val_features_ds = text_vectorization(val_text_only)\n",
        "test_features_ds = text_vectorization(test_text_only)\n",
        "\n",
        "#for submission\n",
        "all_train_features_ds = text_vectorization(all_train_text_only)\n",
        "all_test_features_ds = text_vectorization(all_test_text_only)\n"
      ]
    },
    {
      "cell_type": "code",
      "execution_count": 18,
      "id": "f688b449",
      "metadata": {
        "execution": {
          "iopub.execute_input": "2022-12-03T22:01:23.997026Z",
          "iopub.status.busy": "2022-12-03T22:01:23.996293Z",
          "iopub.status.idle": "2022-12-03T22:01:24.441301Z",
          "shell.execute_reply": "2022-12-03T22:01:24.440341Z"
        },
        "papermill": {
          "duration": 0.452098,
          "end_time": "2022-12-03T22:01:24.444040",
          "exception": false,
          "start_time": "2022-12-03T22:01:23.991942",
          "status": "completed"
        },
        "tags": [],
        "id": "f688b449",
        "colab": {
          "base_uri": "https://localhost:8080/"
        },
        "outputId": "2b6f37ff-27ea-4b23-efc3-56a951ab6138"
      },
      "outputs": [
        {
          "output_type": "stream",
          "name": "stdout",
          "text": [
            "Model: \"model_2\"\n",
            "_________________________________________________________________\n",
            " Layer (type)                Output Shape              Param #   \n",
            "=================================================================\n",
            " input_3 (InputLayer)        [(None, None)]            0         \n",
            "                                                                 \n",
            " tf.one_hot_2 (TFOpLambda)   (None, None, 8000)        0         \n",
            "                                                                 \n",
            " bidirectional_2 (Bidirectio  (None, 64)               2056448   \n",
            " nal)                                                            \n",
            "                                                                 \n",
            " dropout_2 (Dropout)         (None, 64)                0         \n",
            "                                                                 \n",
            " dense_2 (Dense)             (None, 6)                 390       \n",
            "                                                                 \n",
            "=================================================================\n",
            "Total params: 2,056,838\n",
            "Trainable params: 2,056,838\n",
            "Non-trainable params: 0\n",
            "_________________________________________________________________\n"
          ]
        }
      ],
      "source": [
        "def get_model(max_tokens=max_tokens, hidden_dim=32):\n",
        "    \n",
        "    inputs = keras.Input(shape=(None,), dtype=\"int64\")\n",
        "    embedded = tf.one_hot(inputs, depth=max_tokens)\n",
        "    \n",
        "    x = layers.Bidirectional(layers.LSTM(32, return_sequences=False))(embedded)\n",
        "    x = layers.Dropout(rate=0.5)(x)\n",
        "\n",
        "    outputs = layers.Dense(6, activation=None)(x)\n",
        "    \n",
        "    model = keras.Model(inputs, outputs)\n",
        "    model.compile(\n",
        "        optimizer=tf.keras.optimizers.Adam(),\n",
        "        loss=\"mean_absolute_error\",\n",
        "        metrics=['accuracy']\n",
        "    )\n",
        "    return model\n",
        "\n",
        "\n",
        "#train model and test\n",
        "model = get_model()\n",
        "model.summary()\n",
        "\n",
        "if developing:\n",
        "\n",
        "    callbacks = [\n",
        "        keras.callbacks.ModelCheckpoint(\"model_one_hot_bidir_lstm.keras\", save_best_only=True)\n",
        "    ]\n",
        "    hist = model.fit(\n",
        "        x=train_features_ds,\n",
        "        y=train_targets_ds,\n",
        "        validation_data = (\n",
        "            val_features_ds, val_targets_ds\n",
        "        ),\n",
        "        epochs=25,\n",
        "        callbacks=callbacks\n",
        "    )\n",
        "\n",
        "    model = keras.models.load_model(\"model_one_hot_bidir_lstm.keras\")\n",
        "    print(f\"Test acc: {model.evaluate(test_features_ds, test_targets_ds, 1)}\")\n"
      ]
    },
    {
      "cell_type": "code",
      "execution_count": 19,
      "id": "2b724adf",
      "metadata": {
        "execution": {
          "iopub.execute_input": "2022-12-03T22:01:24.452225Z",
          "iopub.status.busy": "2022-12-03T22:01:24.451923Z",
          "iopub.status.idle": "2022-12-03T22:01:24.459745Z",
          "shell.execute_reply": "2022-12-03T22:01:24.458874Z"
        },
        "papermill": {
          "duration": 0.01435,
          "end_time": "2022-12-03T22:01:24.461678",
          "exception": false,
          "start_time": "2022-12-03T22:01:24.447328",
          "status": "completed"
        },
        "tags": [],
        "id": "2b724adf"
      },
      "outputs": [],
      "source": [
        "if developing:\n",
        "    # grab history\n",
        "    history = hist.history\n",
        "\n",
        "    fig = plt.figure(figsize=(16, 4))\n",
        "    ax = fig.add_subplot(1, 3, 1)\n",
        "\n",
        "    plt.plot(history['loss'], lw=2, color='darkgoldenrod')\n",
        "    plt.plot(history['val_loss'], lw=2, color='indianred')\n",
        "    plt.legend(['Train', 'Validation'], fontsize=10)\n",
        "    #plt.ylim(0.5,0.7)\n",
        "    ax.set_xlabel('Epochs', size=10)\n",
        "    ax.set_title('Loss');\n",
        "\n",
        "    ax = fig.add_subplot(1, 3, 2)\n",
        "\n",
        "    plt.plot(history['root_mean_squared_error'], lw=2, color='darkgoldenrod')\n",
        "    plt.plot(history['val_root_mean_squared_error'], lw=2, color='indianred')\n",
        "    plt.legend(['Train', 'Validation'], fontsize=10)\n",
        "    #plt.ylim(0.5,0.7)\n",
        "    ax.set_xlabel('Epochs', size=10)\n",
        "    ax.set_title('RMSE');\n"
      ]
    },
    {
      "cell_type": "code",
      "execution_count": 20,
      "id": "151e66d1",
      "metadata": {
        "execution": {
          "iopub.execute_input": "2022-12-03T22:01:24.468714Z",
          "iopub.status.busy": "2022-12-03T22:01:24.468445Z",
          "iopub.status.idle": "2022-12-03T22:05:57.312230Z",
          "shell.execute_reply": "2022-12-03T22:05:57.311323Z"
        },
        "papermill": {
          "duration": 272.849531,
          "end_time": "2022-12-03T22:05:57.314222",
          "exception": false,
          "start_time": "2022-12-03T22:01:24.464691",
          "status": "completed"
        },
        "tags": [],
        "id": "151e66d1",
        "colab": {
          "base_uri": "https://localhost:8080/"
        },
        "outputId": "6153ba23-6d88-43e3-fdb1-9335cf3c68a2"
      },
      "outputs": [
        {
          "output_type": "stream",
          "name": "stdout",
          "text": [
            "Model: \"model_3\"\n",
            "_________________________________________________________________\n",
            " Layer (type)                Output Shape              Param #   \n",
            "=================================================================\n",
            " input_4 (InputLayer)        [(None, None)]            0         \n",
            "                                                                 \n",
            " tf.one_hot_3 (TFOpLambda)   (None, None, 8000)        0         \n",
            "                                                                 \n",
            " bidirectional_3 (Bidirectio  (None, 64)               2056448   \n",
            " nal)                                                            \n",
            "                                                                 \n",
            " dropout_3 (Dropout)         (None, 64)                0         \n",
            "                                                                 \n",
            " dense_3 (Dense)             (None, 6)                 390       \n",
            "                                                                 \n",
            "=================================================================\n",
            "Total params: 2,056,838\n",
            "Trainable params: 2,056,838\n",
            "Non-trainable params: 0\n",
            "_________________________________________________________________\n",
            "Epoch 1/5\n",
            "123/123 [==============================] - ETA: 0s - loss: 1.2659 - accuracy: 0.1700"
          ]
        },
        {
          "output_type": "stream",
          "name": "stderr",
          "text": [
            "WARNING:tensorflow:Can save best model only with val_loss available, skipping.\n"
          ]
        },
        {
          "output_type": "stream",
          "name": "stdout",
          "text": [
            "\b\b\b\b\b\b\b\b\b\b\b\b\b\b\b\b\b\b\b\b\b\b\b\b\b\b\b\b\b\b\b\b\b\b\b\b\b\b\b\b\b\b\b\b\b\b\b\b\b\b\b\b\b\b\b\b\b\b\b\b\b\b\b\b\b\b\b\b\b\b\b\b\b\b\b\b\b\b\b\b\b\b\b\b\r123/123 [==============================] - 849s 7s/step - loss: 1.2659 - accuracy: 0.1700\n",
            "Epoch 2/5\n",
            "123/123 [==============================] - ETA: 0s - loss: 0.7262 - accuracy: 0.1749"
          ]
        },
        {
          "output_type": "stream",
          "name": "stderr",
          "text": [
            "WARNING:tensorflow:Can save best model only with val_loss available, skipping.\n"
          ]
        },
        {
          "output_type": "stream",
          "name": "stdout",
          "text": [
            "\b\b\b\b\b\b\b\b\b\b\b\b\b\b\b\b\b\b\b\b\b\b\b\b\b\b\b\b\b\b\b\b\b\b\b\b\b\b\b\b\b\b\b\b\b\b\b\b\b\b\b\b\b\b\b\b\b\b\b\b\b\b\b\b\b\b\b\b\b\b\b\b\b\b\b\b\b\b\b\b\b\b\b\b\r123/123 [==============================] - 822s 7s/step - loss: 0.7262 - accuracy: 0.1749\n",
            "Epoch 3/5\n",
            "123/123 [==============================] - ETA: 0s - loss: 0.6757 - accuracy: 0.1879"
          ]
        },
        {
          "output_type": "stream",
          "name": "stderr",
          "text": [
            "WARNING:tensorflow:Can save best model only with val_loss available, skipping.\n"
          ]
        },
        {
          "output_type": "stream",
          "name": "stdout",
          "text": [
            "\b\b\b\b\b\b\b\b\b\b\b\b\b\b\b\b\b\b\b\b\b\b\b\b\b\b\b\b\b\b\b\b\b\b\b\b\b\b\b\b\b\b\b\b\b\b\b\b\b\b\b\b\b\b\b\b\b\b\b\b\b\b\b\b\b\b\b\b\b\b\b\b\b\b\b\b\b\b\b\b\b\b\b\b\r123/123 [==============================] - 821s 7s/step - loss: 0.6757 - accuracy: 0.1879\n",
            "Epoch 4/5\n",
            "123/123 [==============================] - ETA: 0s - loss: 0.6375 - accuracy: 0.1749"
          ]
        },
        {
          "output_type": "stream",
          "name": "stderr",
          "text": [
            "WARNING:tensorflow:Can save best model only with val_loss available, skipping.\n"
          ]
        },
        {
          "output_type": "stream",
          "name": "stdout",
          "text": [
            "\b\b\b\b\b\b\b\b\b\b\b\b\b\b\b\b\b\b\b\b\b\b\b\b\b\b\b\b\b\b\b\b\b\b\b\b\b\b\b\b\b\b\b\b\b\b\b\b\b\b\b\b\b\b\b\b\b\b\b\b\b\b\b\b\b\b\b\b\b\b\b\b\b\b\b\b\b\b\b\b\b\b\b\b\r123/123 [==============================] - 818s 7s/step - loss: 0.6375 - accuracy: 0.1749\n",
            "Epoch 5/5\n",
            "123/123 [==============================] - ETA: 0s - loss: 0.5920 - accuracy: 0.2046"
          ]
        },
        {
          "output_type": "stream",
          "name": "stderr",
          "text": [
            "WARNING:tensorflow:Can save best model only with val_loss available, skipping.\n"
          ]
        },
        {
          "output_type": "stream",
          "name": "stdout",
          "text": [
            "\b\b\b\b\b\b\b\b\b\b\b\b\b\b\b\b\b\b\b\b\b\b\b\b\b\b\b\b\b\b\b\b\b\b\b\b\b\b\b\b\b\b\b\b\b\b\b\b\b\b\b\b\b\b\b\b\b\b\b\b\b\b\b\b\b\b\b\b\b\b\b\b\b\b\b\b\b\b\b\b\b\b\b\b\r123/123 [==============================] - 829s 7s/step - loss: 0.5920 - accuracy: 0.2046\n"
          ]
        }
      ],
      "source": [
        "#\n",
        "model = get_model()\n",
        "model.summary()\n",
        "\n",
        "callbacks = [\n",
        "    keras.callbacks.ModelCheckpoint(\"counts_2gram.keras\", save_best_only=True)\n",
        "]\n",
        "hist = model.fit(\n",
        "    x=all_train_features_ds,\n",
        "    y=all_train_targets_ds,\n",
        "    validation_data = None,\n",
        "    epochs=5,\n",
        "    callbacks=callbacks\n",
        ")\n"
      ]
    },
    {
      "cell_type": "code",
      "execution_count": 21,
      "id": "b698eee8",
      "metadata": {
        "execution": {
          "iopub.execute_input": "2022-12-03T22:05:57.577327Z",
          "iopub.status.busy": "2022-12-03T22:05:57.576979Z",
          "iopub.status.idle": "2022-12-03T22:05:58.174803Z",
          "shell.execute_reply": "2022-12-03T22:05:58.173861Z"
        },
        "papermill": {
          "duration": 0.666085,
          "end_time": "2022-12-03T22:05:58.176895",
          "exception": false,
          "start_time": "2022-12-03T22:05:57.510810",
          "status": "completed"
        },
        "tags": [],
        "id": "b698eee8",
        "colab": {
          "base_uri": "https://localhost:8080/",
          "height": 161
        },
        "outputId": "ba45f862-d202-4403-e86a-95b8570153e7"
      },
      "outputs": [
        {
          "output_type": "stream",
          "name": "stdout",
          "text": [
            "1/1 [==============================] - 2s 2s/step\n"
          ]
        },
        {
          "output_type": "execute_result",
          "data": {
            "text/plain": [
              "        text_id                                          full_text  cohesion  \\\n",
              "0  0000C359D63E  when a person has no experience on a job their...  3.230468   \n",
              "1  000BAD50D026  Do you think students would benefit from being...  3.068642   \n",
              "2  00367BB2546B  Thomas Jefferson once states that \"it is wonde...  3.130032   \n",
              "\n",
              "     syntax  vocabulary  phraseology   grammar  conventions  \n",
              "0  3.120560    3.369401     3.246029  3.116777     3.161983  \n",
              "1  2.965538    3.140971     3.066041  2.970335     3.035580  \n",
              "2  3.006244    3.238558     3.115268  3.014713     3.094421  "
            ],
            "text/html": [
              "\n",
              "  <div id=\"df-8410ea38-c400-4748-8325-64d4e58460a4\">\n",
              "    <div class=\"colab-df-container\">\n",
              "      <div>\n",
              "<style scoped>\n",
              "    .dataframe tbody tr th:only-of-type {\n",
              "        vertical-align: middle;\n",
              "    }\n",
              "\n",
              "    .dataframe tbody tr th {\n",
              "        vertical-align: top;\n",
              "    }\n",
              "\n",
              "    .dataframe thead th {\n",
              "        text-align: right;\n",
              "    }\n",
              "</style>\n",
              "<table border=\"1\" class=\"dataframe\">\n",
              "  <thead>\n",
              "    <tr style=\"text-align: right;\">\n",
              "      <th></th>\n",
              "      <th>text_id</th>\n",
              "      <th>full_text</th>\n",
              "      <th>cohesion</th>\n",
              "      <th>syntax</th>\n",
              "      <th>vocabulary</th>\n",
              "      <th>phraseology</th>\n",
              "      <th>grammar</th>\n",
              "      <th>conventions</th>\n",
              "    </tr>\n",
              "  </thead>\n",
              "  <tbody>\n",
              "    <tr>\n",
              "      <th>0</th>\n",
              "      <td>0000C359D63E</td>\n",
              "      <td>when a person has no experience on a job their...</td>\n",
              "      <td>3.230468</td>\n",
              "      <td>3.120560</td>\n",
              "      <td>3.369401</td>\n",
              "      <td>3.246029</td>\n",
              "      <td>3.116777</td>\n",
              "      <td>3.161983</td>\n",
              "    </tr>\n",
              "    <tr>\n",
              "      <th>1</th>\n",
              "      <td>000BAD50D026</td>\n",
              "      <td>Do you think students would benefit from being...</td>\n",
              "      <td>3.068642</td>\n",
              "      <td>2.965538</td>\n",
              "      <td>3.140971</td>\n",
              "      <td>3.066041</td>\n",
              "      <td>2.970335</td>\n",
              "      <td>3.035580</td>\n",
              "    </tr>\n",
              "    <tr>\n",
              "      <th>2</th>\n",
              "      <td>00367BB2546B</td>\n",
              "      <td>Thomas Jefferson once states that \"it is wonde...</td>\n",
              "      <td>3.130032</td>\n",
              "      <td>3.006244</td>\n",
              "      <td>3.238558</td>\n",
              "      <td>3.115268</td>\n",
              "      <td>3.014713</td>\n",
              "      <td>3.094421</td>\n",
              "    </tr>\n",
              "  </tbody>\n",
              "</table>\n",
              "</div>\n",
              "      <button class=\"colab-df-convert\" onclick=\"convertToInteractive('df-8410ea38-c400-4748-8325-64d4e58460a4')\"\n",
              "              title=\"Convert this dataframe to an interactive table.\"\n",
              "              style=\"display:none;\">\n",
              "        \n",
              "  <svg xmlns=\"http://www.w3.org/2000/svg\" height=\"24px\"viewBox=\"0 0 24 24\"\n",
              "       width=\"24px\">\n",
              "    <path d=\"M0 0h24v24H0V0z\" fill=\"none\"/>\n",
              "    <path d=\"M18.56 5.44l.94 2.06.94-2.06 2.06-.94-2.06-.94-.94-2.06-.94 2.06-2.06.94zm-11 1L8.5 8.5l.94-2.06 2.06-.94-2.06-.94L8.5 2.5l-.94 2.06-2.06.94zm10 10l.94 2.06.94-2.06 2.06-.94-2.06-.94-.94-2.06-.94 2.06-2.06.94z\"/><path d=\"M17.41 7.96l-1.37-1.37c-.4-.4-.92-.59-1.43-.59-.52 0-1.04.2-1.43.59L10.3 9.45l-7.72 7.72c-.78.78-.78 2.05 0 2.83L4 21.41c.39.39.9.59 1.41.59.51 0 1.02-.2 1.41-.59l7.78-7.78 2.81-2.81c.8-.78.8-2.07 0-2.86zM5.41 20L4 18.59l7.72-7.72 1.47 1.35L5.41 20z\"/>\n",
              "  </svg>\n",
              "      </button>\n",
              "      \n",
              "  <style>\n",
              "    .colab-df-container {\n",
              "      display:flex;\n",
              "      flex-wrap:wrap;\n",
              "      gap: 12px;\n",
              "    }\n",
              "\n",
              "    .colab-df-convert {\n",
              "      background-color: #E8F0FE;\n",
              "      border: none;\n",
              "      border-radius: 50%;\n",
              "      cursor: pointer;\n",
              "      display: none;\n",
              "      fill: #1967D2;\n",
              "      height: 32px;\n",
              "      padding: 0 0 0 0;\n",
              "      width: 32px;\n",
              "    }\n",
              "\n",
              "    .colab-df-convert:hover {\n",
              "      background-color: #E2EBFA;\n",
              "      box-shadow: 0px 1px 2px rgba(60, 64, 67, 0.3), 0px 1px 3px 1px rgba(60, 64, 67, 0.15);\n",
              "      fill: #174EA6;\n",
              "    }\n",
              "\n",
              "    [theme=dark] .colab-df-convert {\n",
              "      background-color: #3B4455;\n",
              "      fill: #D2E3FC;\n",
              "    }\n",
              "\n",
              "    [theme=dark] .colab-df-convert:hover {\n",
              "      background-color: #434B5C;\n",
              "      box-shadow: 0px 1px 3px 1px rgba(0, 0, 0, 0.15);\n",
              "      filter: drop-shadow(0px 1px 2px rgba(0, 0, 0, 0.3));\n",
              "      fill: #FFFFFF;\n",
              "    }\n",
              "  </style>\n",
              "\n",
              "      <script>\n",
              "        const buttonEl =\n",
              "          document.querySelector('#df-8410ea38-c400-4748-8325-64d4e58460a4 button.colab-df-convert');\n",
              "        buttonEl.style.display =\n",
              "          google.colab.kernel.accessAllowed ? 'block' : 'none';\n",
              "\n",
              "        async function convertToInteractive(key) {\n",
              "          const element = document.querySelector('#df-8410ea38-c400-4748-8325-64d4e58460a4');\n",
              "          const dataTable =\n",
              "            await google.colab.kernel.invokeFunction('convertToInteractive',\n",
              "                                                     [key], {});\n",
              "          if (!dataTable) return;\n",
              "\n",
              "          const docLinkHtml = 'Like what you see? Visit the ' +\n",
              "            '<a target=\"_blank\" href=https://colab.research.google.com/notebooks/data_table.ipynb>data table notebook</a>'\n",
              "            + ' to learn more about interactive tables.';\n",
              "          element.innerHTML = '';\n",
              "          dataTable['output_type'] = 'display_data';\n",
              "          await google.colab.output.renderOutput(dataTable, element);\n",
              "          const docLink = document.createElement('div');\n",
              "          docLink.innerHTML = docLinkHtml;\n",
              "          element.appendChild(docLink);\n",
              "        }\n",
              "      </script>\n",
              "    </div>\n",
              "  </div>\n",
              "  "
            ]
          },
          "metadata": {},
          "execution_count": 21
        }
      ],
      "source": [
        "test_predictions = model.predict(all_test_features_ds)\n",
        "test_predictions = pd.DataFrame(test_predictions)\n",
        "\n",
        "test_from_comp['cohesion'] = test_predictions[0]\n",
        "test_from_comp['syntax'] = test_predictions[1]\n",
        "test_from_comp['vocabulary'] = test_predictions[2]\n",
        "test_from_comp['phraseology'] = test_predictions[3]\n",
        "test_from_comp['grammar'] = test_predictions[4]\n",
        "test_from_comp['conventions'] = test_predictions[5]\n",
        "test_from_comp\n"
      ]
    }
  ],
  "metadata": {
    "kernelspec": {
      "display_name": "Python 3",
      "language": "python",
      "name": "python3"
    },
    "language_info": {
      "codemirror_mode": {
        "name": "ipython",
        "version": 3
      },
      "file_extension": ".py",
      "mimetype": "text/x-python",
      "name": "python",
      "nbconvert_exporter": "python",
      "pygments_lexer": "ipython3",
      "version": "3.7.12"
    },
    "papermill": {
      "default_parameters": {},
      "duration": 296.425961,
      "end_time": "2022-12-03T22:06:01.337351",
      "environment_variables": {},
      "exception": null,
      "input_path": "__notebook__.ipynb",
      "output_path": "__notebook__.ipynb",
      "parameters": {},
      "start_time": "2022-12-03T22:01:04.911390",
      "version": "2.3.4"
    },
    "colab": {
      "provenance": []
    }
  },
  "nbformat": 4,
  "nbformat_minor": 5
}